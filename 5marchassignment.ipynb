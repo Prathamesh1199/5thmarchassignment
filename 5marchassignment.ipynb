{
 "cells": [
  {
   "cell_type": "code",
   "execution_count": null,
   "id": "5a12e19a-4cd5-4bca-9450-6267ffb4061c",
   "metadata": {},
   "outputs": [],
   "source": [
    "1:\n",
    "\n",
    "By following these steps  we can create bokeh plot using phython code:    \n",
    "1.Importing the necessary modules from the bokeh.plotting\n",
    "\n",
    "from bokeh.plotting import figure, output_file, show\n",
    "\n",
    "2.Creating a new plot by calling the figure() function\n",
    "\n",
    "p = figure(title=\"My Bokeh Plot\", x_axis_label=\"x-axis\", y_axis_label=\"y-axis\")\n",
    "\n",
    "3.Adding data to the plot by calling the appropriate glyph methods on the plot\n",
    "  object. \n",
    "    \n",
    "p.circle([1, 2, 3, 4, 5], [6, 7, 2, 4, 5], size=15, line_color=\"navy\", fill_color=\"orange\", fill_alpha=0.5)\n",
    "    \n",
    "    \n",
    "4.then finally, Setting the output file and show the plot:\n",
    "\n",
    "output_file(\"myplot.html\")\n",
    "show(p)\n"
   ]
  },
  {
   "cell_type": "code",
   "execution_count": 2,
   "id": "1b980ca2-70a5-41de-9e32-c340413e64bb",
   "metadata": {},
   "outputs": [],
   "source": [
    "\n"
   ]
  },
  {
   "cell_type": "code",
   "execution_count": null,
   "id": "d30a0c38-632c-4208-84da-80aca217f388",
   "metadata": {},
   "outputs": [],
   "source": [
    "2:\n",
    "Glyphs in Bokeh are visual shapes that represent the data points in a plot.\n",
    "Bokeh provides a variety of glyph types, such as circles, squares, lines, and\n",
    "bars, among others, which can be used to create different types of plots.\n",
    "   To add glyphs to a Bokeh plot, we can call the appropriate glyph methods\n",
    "on the plot object, passing the data and visual properties as arguments.\n",
    "\n",
    "Here  is the example\n"
   ]
  },
  {
   "cell_type": "code",
   "execution_count": 4,
   "id": "995c6617-d5c5-4c7d-915f-49525a90d568",
   "metadata": {},
   "outputs": [],
   "source": [
    "from bokeh.plotting import figure, output_file, show\n",
    "\n",
    "# create a new plot\n",
    "p = figure(title=\"My Glyph Plot\", x_axis_label=\"x-axis\", y_axis_label=\"y-axis\")\n",
    "\n",
    "# create some data\n",
    "x = [1, 2, 3, 4, 5]\n",
    "y = [6, 7, 2, 4, 5]\n",
    "\n",
    "# add glyphs to the plot\n",
    "p.circle(x, y, size=15, line_color=\"navy\", fill_color=\"orange\", fill_alpha=0.5)\n",
    "p.line(x, y, line_width=2, line_color=\"green\")\n",
    "\n",
    "output_file(\"myglyphplot.html\")\n",
    "show(p)\n"
   ]
  },
  {
   "cell_type": "code",
   "execution_count": null,
   "id": "d431f03b-1eab-4c60-8a93-b720d721a805",
   "metadata": {},
   "outputs": [],
   "source": []
  },
  {
   "cell_type": "code",
   "execution_count": null,
   "id": "38aa4b36-475f-4a1d-b82b-ba54eab65744",
   "metadata": {},
   "outputs": [],
   "source": [
    "3:\n",
    "Bokeh provides a variety of options to customize the appearance of a plot, including\n",
    "the axes, title, legend, and other visual elements. Here are some examples of\n",
    "how to customize the appearance of a Bokeh plot:"
   ]
  },
  {
   "cell_type": "code",
   "execution_count": null,
   "id": "767f5846-451d-45b8-8d07-a1bf59c680c3",
   "metadata": {},
   "outputs": [],
   "source": [
    "1.Customizing the axes:\n",
    "    \n",
    "# set the axis labels and ranges\n",
    "plot.xaxis.axis_label = \"x-axis label\"\n",
    "plot.yaxis.axis_label = \"y-axis label\"\n",
    "plot.x_range = Range1d(0, 10)\n",
    "plot.y_range = Range1d(0, 20)\n",
    "\n",
    "# set the axis tick labels and properties\n",
    "plot.xaxis.major_label_text_font_size = \"12pt\"\n",
    "plot.yaxis.major_label_text_font_style = \"italic\"\n",
    "plot.xaxis.major_tick_line_color = \"red\"\n",
    "plot.yaxis.major_tick_line_width = 2\n"
   ]
  },
  {
   "cell_type": "code",
   "execution_count": null,
   "id": "75b3d07f-3a56-48a8-9a21-5c6ee95c8004",
   "metadata": {},
   "outputs": [],
   "source": [
    "2.Customizing the title:\n",
    "    \n",
    "# set the title and title properties\n",
    "plot.title.text = \"My Bokeh Plot\"\n",
    "plot.title.text_color = \"blue\"\n",
    "plot.title.text_font_size = \"18pt\"\n"
   ]
  },
  {
   "cell_type": "code",
   "execution_count": null,
   "id": "2a626262-e28d-4d42-b6df-dfcaeea08bc1",
   "metadata": {},
   "outputs": [],
   "source": [
    "3.Customizing the legend:\n",
    "    \n",
    "# add a legend and set its properties\n",
    "plot.circle(x, y, legend_label=\"Data\", size=10, color=\"blue\")\n",
    "plot.line(x, y, legend_label=\"Line\", line_width=2, line_color=\"red\")\n",
    "plot.legend.location = \"top_left\"\n",
    "plot.legend.title = \"Legend Title\"\n"
   ]
  },
  {
   "cell_type": "code",
   "execution_count": null,
   "id": "cd4f3cb8-b43b-4531-b27e-b2414d0a17b8",
   "metadata": {},
   "outputs": [],
   "source": [
    "\n",
    "\n"
   ]
  },
  {
   "cell_type": "code",
   "execution_count": null,
   "id": "5743a562-3e56-4d7c-a7f1-2c80a999315f",
   "metadata": {},
   "outputs": [],
   "source": [
    "4:\n",
    "A Bokeh server is a Python application that allows you to create and serve interactive\n",
    "Bokeh plots that can be updated in real time. The Bokeh server provides a way\n",
    "to deploy yourBokeh applications and visualizations to a web browser, allowing\n",
    "users to interact with the plot in real time and enabling you to update the \n",
    "plot based on user input or external data sources.\n",
    "\n",
    "To create a Bokeh server application, we have to first define the layout and\n",
    "components of the plot using Bokeh models, just like we did for a static plot.\n",
    "However, instead of calling the show() function to display the plot in a web\n",
    "browser, we  can create a Bokeh server application and pass the plot components\n",
    "to the application. The Bokeh server then serves the application and runs it \n",
    "in a web browser, allowing users to interact with the plot.\n",
    "\n",
    "Here is an example of how to create a simple Bokeh server application that displays\n",
    "a scatter plot and allows the user to interact with the plot using a slider\n",
    "widget\n"
   ]
  },
  {
   "cell_type": "code",
   "execution_count": null,
   "id": "7ebc5850-87e0-456b-a449-f0b908a3279e",
   "metadata": {},
   "outputs": [],
   "source": [
    "from bokeh.io import curdoc\n",
    "from bokeh.layouts import column\n",
    "from bokeh.models import ColumnDataSource, Slider\n",
    "from bokeh.plotting import figure\n",
    "\n",
    "# create a plot with a single scatter glyph\n",
    "plot = figure()\n",
    "source = ColumnDataSource(data=dict(x=[1, 2, 3, 4, 5], y=[2, 5, 3, 7, 1]))\n",
    "plot.scatter('x', 'y', source=source)\n",
    "\n",
    "# define a callback function that updates the plot based on the slider value\n",
    "def update_plot(attr, old, new):\n",
    "    source.data = dict(x=[1, 2, 3, 4, 5], y=[new, new+3, new-1, new+4, new-2])\n",
    "\n",
    "# create a slider widget and connect it to the callback function\n",
    "slider = Slider(start=0, end=10, value=5, step=1, title=\"Slider\")\n",
    "slider.on_change('value', update_plot)\n",
    "\n",
    "# create a layout for the plot and slider widgets\n",
    "layout = column(slider, plot)\n",
    "\n",
    "# add the layout to the Bokeh server application\n",
    "curdoc().add_root(layout)\n"
   ]
  },
  {
   "cell_type": "code",
   "execution_count": null,
   "id": "70a509fc-5a29-4ad0-95ba-7adfc5424ed7",
   "metadata": {},
   "outputs": [],
   "source": [
    "when we run this code using the Bokeh server, it will create a web application\n",
    "that displays the scatter plot and slider widget. The user can interact with \n",
    "the slider widget to update the data in the scatter plot, and the plot will\n",
    "be updated in real time."
   ]
  },
  {
   "cell_type": "code",
   "execution_count": null,
   "id": "b368b4f8-94ab-4b0b-8b42-4549c5e1c527",
   "metadata": {},
   "outputs": [],
   "source": [
    "\n",
    "\n"
   ]
  },
  {
   "cell_type": "code",
   "execution_count": null,
   "id": "1d7e27d8-b114-425e-b009-d66e08e4ef42",
   "metadata": {},
   "outputs": [],
   "source": [
    "5:To embed a Bokeh plot into a web page or dashboard using Flask or Django:\n",
    "\n",
    "1.Create a Bokeh plot as you normally would using the Bokeh library.\n",
    "2.Create a Flask or Django application and define a route for the web page\n",
    "   where you want to display the plot.\n",
    "3.In the view function for that route, use the Bokeh components() function to\n",
    "   generate the JavaScript and HTML code needed to display the plot.\n",
    "4.Pass the generated code to the template engine for Flask or Django, along with \n",
    "  any other context variables needed for the web page.\n",
    "5.In the template file for the web page, insert the generated code into the\n",
    "  appropriate location on the page.\n",
    "\n",
    "Here an example of embedding a Bokeh plot into a Flask application:"
   ]
  },
  {
   "cell_type": "code",
   "execution_count": null,
   "id": "5358b3a2-31d0-4644-8499-436b65f23b17",
   "metadata": {},
   "outputs": [],
   "source": [
    "from flask import Flask, render_template\n",
    "from bokeh.plotting import figure, output_file, show\n",
    "from bokeh.embed import components\n",
    "\n",
    "app = Flask(__name__)\n",
    "\n",
    "@app.route('/')\n",
    "def index():\n",
    "    # create a Bokeh plot\n",
    "    plot = figure(title='My Plot', x_axis_label='x', y_axis_label='y')\n",
    "    plot.line([1, 2, 3, 4, 5], [6, 7, 2, 4, 5])\n",
    "    \n",
    "    # generate JavaScript and HTML code for the plot\n",
    "    script, div = components(plot)\n",
    "    \n",
    "    # render the template with the plot code and other context variables\n",
    "    return render_template('index.html', plot_script=script, plot_div=div)\n",
    "\n",
    "if __name__ == '__main__':\n",
    "    app.run()\n"
   ]
  },
  {
   "cell_type": "code",
   "execution_count": null,
   "id": "a7673fcc-dc35-4b25-8111-e6fe31da4c50",
   "metadata": {},
   "outputs": [],
   "source": []
  },
  {
   "cell_type": "code",
   "execution_count": null,
   "id": "e003d4ff-142a-42dc-9598-f44d7bf3bb79",
   "metadata": {},
   "outputs": [],
   "source": []
  }
 ],
 "metadata": {
  "kernelspec": {
   "display_name": "Python 3 (ipykernel)",
   "language": "python",
   "name": "python3"
  },
  "language_info": {
   "codemirror_mode": {
    "name": "ipython",
    "version": 3
   },
   "file_extension": ".py",
   "mimetype": "text/x-python",
   "name": "python",
   "nbconvert_exporter": "python",
   "pygments_lexer": "ipython3",
   "version": "3.10.8"
  }
 },
 "nbformat": 4,
 "nbformat_minor": 5
}
